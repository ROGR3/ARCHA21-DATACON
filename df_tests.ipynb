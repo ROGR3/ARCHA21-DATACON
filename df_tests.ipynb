{
 "cells": [
  {
   "cell_type": "code",
   "execution_count": 4,
   "id": "a52199f6",
   "metadata": {},
   "outputs": [
    {
     "name": "stdout",
     "output_type": "stream",
     "text": [
      "CPZP: Schema({'Id_pojistence': Float64, 'Pohlavi': Enum(categories=['M', 'Z']), 'Rok_narozeni': Int64, 'Mesic_narozeni': Int64, 'Posledni_zahajeni_pojisteni': Date, 'Posledni_ukonceni_pojisteni': Date, 'Rok_umrti': Int64, 'Mesic_umrti': Int64, 'Typ_udalosti': Enum(categories=['předpis', 'vakcinace']), 'Kod_udalosti': String, 'Detail_udalosti': String, 'Pocet_baleni': Float64, 'Datum_udalosti': Date, 'Specializace': String, 'Datum_umrti': Date, 'léková_forma_zkr': String, 'ATC_skupina': String, 'síla': String, 'doplněk_názvu': String, 'léková_forma': String, 'léčivé_látky': String, 'Equiv_sloucenina': Enum(categories=['TRIAMCINOLON', 'FLUDROKORTISON', 'METHYLPREDNISOLON', 'DEXAMETHASON', 'PREDNISON', 'BETAMETHASON', 'HYDROKORTISON']), 'Prednison_equiv': Float64, 'Pocet_v_baleni': Float64, 'pololeti': Int64, 'rok_zahajeni': Int64, 'poradi': Int64, 'pocet_vakcinaci': Int64, 'ockovany': Enum(categories=['1', '0']), 'pocet_predpisu': Int64})\n"
     ]
    }
   ],
   "source": [
    "import polars as pl\n",
    "import matplotlib.pyplot as plt\n",
    "\n",
    "from common.constants.column_types import CPZP_SCHEMA, OZP_SCHEMA\n",
    "from common.constants.column_names import SHARED_COLUMNS, OZP_COLUMNS\n",
    "from datetime import datetime\n",
    "\n",
    "pl.Config.set_tbl_rows(20)\n",
    "pl.Config.set_tbl_cols(6)\n",
    "\n",
    "\n",
    "def read_preskladane_data(file_path: str, schema: pl.Schema) -> pl.DataFrame:\n",
    "    return pl.read_csv(\n",
    "        file_path,\n",
    "        null_values=[\"NA\", \"\"],\n",
    "        schema=schema,\n",
    "    )\n",
    "\n",
    "\n",
    "cpzp_df = read_preskladane_data(\"./DATACON_data/CPZP_preskladane.csv\", CPZP_SCHEMA)\n",
    "ozp_df = read_preskladane_data(\"./DATACON_data/OZP_preskladane.csv\", OZP_SCHEMA)\n",
    "print(f\"CPZP: {cpzp_df.schema}\")"
   ]
  },
  {
   "cell_type": "code",
   "execution_count": 16,
   "id": "44536409",
   "metadata": {},
   "outputs": [],
   "source": [
    "def precise_age_expr():\n",
    "    return (pl.col(\"Datum_udalosti\").dt.year() - pl.col(\"Rok_narozeni\")) - (\n",
    "        (pl.col(\"Datum_udalosti\").dt.month() < pl.col(\"Mesic_narozeni\"))\n",
    "        | (\n",
    "            (pl.col(\"Datum_udalosti\").dt.month() == pl.col(\"Mesic_narozeni\"))\n",
    "            & (pl.col(\"Datum_udalosti\").dt.day() < 1)  # birthdays assumed day=1\n",
    "        )\n",
    "    ).cast(pl.Int8)\n",
    "\n",
    "\n",
    "def curren_age_expr():\n",
    "    # Use death date if present, otherwise today's date\n",
    "    event_date = (\n",
    "        pl.when(pl.col(\"Datum_umrti\").is_not_null())\n",
    "        .then(pl.col(\"Datum_umrti\"))\n",
    "        .otherwise(pl.lit(datetime.now().date()))\n",
    "    )\n",
    "\n",
    "    # Birthday-aware age calculation\n",
    "    age = (event_date.dt.year() - pl.col(\"Rok_narozeni\")) - (\n",
    "        (event_date.dt.month() < pl.col(\"Mesic_narozeni\"))\n",
    "        | (\n",
    "            (event_date.dt.month() == pl.col(\"Mesic_narozeni\"))\n",
    "            & (event_date.dt.day() < 1)  # assumed birthday day=1\n",
    "        )\n",
    "    ).cast(pl.Int8)\n",
    "\n",
    "    return age\n",
    "\n",
    "\n",
    "age = precise_age_expr()\n",
    "current_age = curren_age_expr()"
   ]
  },
  {
   "cell_type": "code",
   "execution_count": 17,
   "id": "764c491e",
   "metadata": {},
   "outputs": [
    {
     "name": "stdout",
     "output_type": "stream",
     "text": [
      "Počet osob s očkováním: 765972\n",
      "Počet osob bez očkování a bez předpisů: 630500\n",
      "Počet předpisů pro osoby 30-50 let: 735528\n",
      "Počet očkovaných osob pro analýzu 30-50 let: 225939\n",
      "Počet předpisů pro očkované osoby 30-50 let v letech 2020-2023: 180884\n",
      "Počet prvopředpisů v letech 2020-2023: 124820\n"
     ]
    }
   ],
   "source": [
    "df = cpzp_df\n",
    "\n",
    "# 1. Počet osob s očkováním\n",
    "vax_persons_count = (\n",
    "    df.filter(pl.col(\"ockovany\") == \"1\").select(\"Id_pojistence\").n_unique()\n",
    ")\n",
    "print(f\"Počet osob s očkováním: {vax_persons_count}\")\n",
    "\n",
    "# 2. Počet osob bez očkování a bez předpisů\n",
    "no_vax_no_prescriptions_count = (\n",
    "    df.filter((pl.col(\"ockovany\") == \"0\") & (pl.col(\"pocet_predpisu\") == 0))\n",
    "    .select(\"Id_pojistence\")\n",
    "    .n_unique()\n",
    ")\n",
    "print(f\"Počet osob bez očkování a bez předpisů: {no_vax_no_prescriptions_count}\")\n",
    "\n",
    "# 3. Počet předpisů pro osoby 30–50 let\n",
    "# -> Věk v době události = rok události - rok narození\n",
    "prescriptions_for_30_50_count = df.filter(\n",
    "    (pl.col(\"Typ_udalosti\") == \"předpis\") & (age >= 30) & (age < 50)\n",
    ").height\n",
    "print(f\"Počet předpisů pro osoby 30-50 let: {prescriptions_for_30_50_count}\")\n",
    "\n",
    "# 4. Počet očkovaných osob pro analýzu 30–50 let bez úmrtí\n",
    "analysis_included_30_50_vax_count = (\n",
    "    df.filter(\n",
    "        (pl.col(\"ockovany\") == \"1\")\n",
    "        & (current_age >= 30)\n",
    "        & (current_age < 50)\n",
    "        & pl.col(\"Datum_umrti\").is_null()\n",
    "    )\n",
    "    .select(\"Id_pojistence\")\n",
    "    .n_unique()\n",
    ")\n",
    "print(\n",
    "    f\"Počet očkovaných osob pro analýzu 30-50 let: {analysis_included_30_50_vax_count}\"\n",
    ")\n",
    "\n",
    "# 5. Počet předpisů pro očkované osoby 30–50 let v letech 2020–2023\n",
    "prescriptions_for_30_50_vax_2020_2023 = df.filter(\n",
    "    (pl.col(\"ockovany\") == \"1\")\n",
    "    & (pl.col(\"Typ_udalosti\") == \"předpis\")\n",
    "    & (age >= 30)\n",
    "    & (age < 50)\n",
    "    & (pl.col(\"Datum_udalosti\") >= datetime(2020, 1, 1).date())\n",
    "    & (pl.col(\"Datum_udalosti\") <= datetime(2023, 1, 1).date())\n",
    ").height\n",
    "print(\n",
    "    f\"Počet předpisů pro očkované osoby 30-50 let v letech 2020-2023: {prescriptions_for_30_50_vax_2020_2023}\"\n",
    ")\n",
    "\n",
    "# 6. Počet prvopředpisů v letech 2020–2023\n",
    "#   -> Najdeme první předpis pro každého pojištěnce a zkontrolujeme datum\n",
    "first_prescriptions_count = (\n",
    "    df.filter(pl.col(\"Typ_udalosti\") == \"předpis\")\n",
    "    .group_by(\"Id_pojistence\")\n",
    "    .agg(pl.col(\"Datum_udalosti\").min().alias(\"first_prescription_date\"))\n",
    "    .filter(\n",
    "        (pl.col(\"first_prescription_date\") >= datetime(2020, 1, 1).date())\n",
    "        & (pl.col(\"first_prescription_date\") <= datetime(2023, 1, 1).date())\n",
    "    )\n",
    "    .height\n",
    ")\n",
    "print(f\"Počet prvopředpisů v letech 2020-2023: {first_prescriptions_count}\")"
   ]
  },
  {
   "cell_type": "code",
   "execution_count": 2,
   "id": "af88ffd2",
   "metadata": {},
   "outputs": [
    {
     "name": "stdout",
     "output_type": "stream",
     "text": [
      "5478462\n",
      "4847962\n",
      "630500\n",
      "3642969\n",
      "2871013\n",
      "771956\n"
     ]
    }
   ],
   "source": [
    "vax_or_prescription = cpzp_df.filter(\n",
    "    (((pl.col(\"Typ_udalosti\") == \"vakcinace\") | (pl.col(\"Typ_udalosti\") == \"předpis\")))\n",
    ")\n",
    "\n",
    "non_vax_and_non_prescription = cpzp_df.filter(\n",
    "    ~(((pl.col(\"Typ_udalosti\") == \"vakcinace\") | (pl.col(\"Typ_udalosti\") == \"předpis\")))\n",
    "    | (pl.col(\"Typ_udalosti\").is_null())\n",
    ")\n",
    "\n",
    "print(len(cpzp_df))\n",
    "print(len(vax_or_prescription))\n",
    "print(len(non_vax_and_non_prescription))\n",
    "assert len(vax_or_prescription) + len(non_vax_and_non_prescription) == len(cpzp_df)\n",
    "\n",
    "\n",
    "vax_or_prescription = ozp_df.filter(\n",
    "    (((pl.col(\"Typ_udalosti\") == \"vakcinace\") | (pl.col(\"Typ_udalosti\") == \"předpis\")))\n",
    ")\n",
    "\n",
    "non_vax_and_non_prescription = ozp_df.filter(\n",
    "    ~(((pl.col(\"Typ_udalosti\") == \"vakcinace\") | (pl.col(\"Typ_udalosti\") == \"předpis\")))\n",
    "    | (pl.col(\"Typ_udalosti\").is_null())\n",
    ")\n",
    "\n",
    "print(len(ozp_df))\n",
    "print(len(vax_or_prescription))\n",
    "print(len(non_vax_and_non_prescription))\n",
    "assert len(vax_or_prescription) + len(non_vax_and_non_prescription) == len(ozp_df)"
   ]
  },
  {
   "cell_type": "code",
   "execution_count": null,
   "id": "dbf72dd5",
   "metadata": {},
   "outputs": [],
   "source": []
  }
 ],
 "metadata": {
  "kernelspec": {
   "display_name": ".venv",
   "language": "python",
   "name": "python3"
  },
  "language_info": {
   "codemirror_mode": {
    "name": "ipython",
    "version": 3
   },
   "file_extension": ".py",
   "mimetype": "text/x-python",
   "name": "python",
   "nbconvert_exporter": "python",
   "pygments_lexer": "ipython3",
   "version": "3.13.2"
  }
 },
 "nbformat": 4,
 "nbformat_minor": 5
}
