{
 "cells": [
  {
   "cell_type": "code",
   "execution_count": 1,
   "id": "a52199f6",
   "metadata": {},
   "outputs": [],
   "source": [
    "import polars as pl\n",
    "import matplotlib.pyplot as plt\n",
    "\n",
    "from common.constants.column_types import CPZP_SCHEMA, OZP_SCHEMA\n",
    "from common.constants.column_names import SHARED_COLUMNS, OZP_COLUMNS\n",
    "\n",
    "pl.Config.set_tbl_rows(20)\n",
    "pl.Config.set_tbl_cols(6)\n",
    "\n",
    "\n",
    "def read_preskladane_data(file_path: str, schema: pl.Schema) -> pl.DataFrame:\n",
    "    return pl.read_csv(\n",
    "        file_path,\n",
    "        null_values=[\"NA\", \"\"],\n",
    "        schema=schema,\n",
    "    )\n",
    "\n",
    "\n",
    "cpzp_df = read_preskladane_data(\"./DATACON_data/CPZP_preskladane.csv\", CPZP_SCHEMA)\n",
    "ozp_df = read_preskladane_data(\"./DATACON_data/OZP_preskladane.csv\", OZP_SCHEMA)"
   ]
  },
  {
   "cell_type": "code",
   "execution_count": 3,
   "id": "764c491e",
   "metadata": {},
   "outputs": [
    {
     "name": "stdout",
     "output_type": "stream",
     "text": [
      "CPZP: 1570780\n",
      "OZP: 977485\n",
      "CPZP: 765972\n",
      "OZP: 502908\n"
     ]
    }
   ],
   "source": [
    "print(f\"CPZP: {len(cpzp_df['Id_pojistence'].unique())}\")\n",
    "print(f\"OZP: {len(ozp_df['Id_pojistence'].unique())}\")\n",
    "\n",
    "\n",
    "print(\n",
    "    f\"CPZP: {len(cpzp_df.filter(pl.col('Typ_udalosti') == 'vakcinace')['Id_pojistence'].unique())}\"\n",
    ")\n",
    "print(\n",
    "    f\"OZP: {len(ozp_df.filter(pl.col('Typ_udalosti') == 'vakcinace')['Id_pojistence'].unique())}\"\n",
    ")"
   ]
  },
  {
   "cell_type": "code",
   "execution_count": 2,
   "id": "af88ffd2",
   "metadata": {},
   "outputs": [
    {
     "name": "stdout",
     "output_type": "stream",
     "text": [
      "5478462\n",
      "4847962\n",
      "630500\n",
      "3642969\n",
      "2871013\n",
      "771956\n"
     ]
    }
   ],
   "source": [
    "vax_or_prescription = cpzp_df.filter(\n",
    "    (((pl.col(\"Typ_udalosti\") == \"vakcinace\") | (pl.col(\"Typ_udalosti\") == \"předpis\")))\n",
    ")\n",
    "\n",
    "non_vax_and_non_prescription = cpzp_df.filter(\n",
    "    ~(((pl.col(\"Typ_udalosti\") == \"vakcinace\") | (pl.col(\"Typ_udalosti\") == \"předpis\")))\n",
    "    | (pl.col(\"Typ_udalosti\").is_null())\n",
    ")\n",
    "\n",
    "print(len(cpzp_df))\n",
    "print(len(vax_or_prescription))\n",
    "print(len(non_vax_and_non_prescription))\n",
    "assert len(vax_or_prescription) + len(non_vax_and_non_prescription) == len(cpzp_df)\n",
    "\n",
    "\n",
    "vax_or_prescription = ozp_df.filter(\n",
    "    (((pl.col(\"Typ_udalosti\") == \"vakcinace\") | (pl.col(\"Typ_udalosti\") == \"předpis\")))\n",
    ")\n",
    "\n",
    "non_vax_and_non_prescription = ozp_df.filter(\n",
    "    ~(((pl.col(\"Typ_udalosti\") == \"vakcinace\") | (pl.col(\"Typ_udalosti\") == \"předpis\")))\n",
    "    | (pl.col(\"Typ_udalosti\").is_null())\n",
    ")\n",
    "\n",
    "print(len(ozp_df))\n",
    "print(len(vax_or_prescription))\n",
    "print(len(non_vax_and_non_prescription))\n",
    "assert len(vax_or_prescription) + len(non_vax_and_non_prescription) == len(ozp_df)"
   ]
  },
  {
   "cell_type": "code",
   "execution_count": null,
   "id": "dbf72dd5",
   "metadata": {},
   "outputs": [],
   "source": []
  }
 ],
 "metadata": {
  "kernelspec": {
   "display_name": ".venv",
   "language": "python",
   "name": "python3"
  },
  "language_info": {
   "codemirror_mode": {
    "name": "ipython",
    "version": 3
   },
   "file_extension": ".py",
   "mimetype": "text/x-python",
   "name": "python",
   "nbconvert_exporter": "python",
   "pygments_lexer": "ipython3",
   "version": "3.13.2"
  }
 },
 "nbformat": 4,
 "nbformat_minor": 5
}
