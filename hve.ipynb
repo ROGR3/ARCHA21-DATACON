{
 "cells": [
  {
   "cell_type": "code",
   "execution_count": 6,
   "id": "594bdd37",
   "metadata": {},
   "outputs": [],
   "source": [
    "from dataclasses import dataclass\n",
    "from enum import StrEnum\n",
    "from datetime import datetime, timedelta\n",
    "import polars as pl\n",
    "from collections import defaultdict, Counter\n",
    "from typing import Tuple\n",
    "from common.constants.column_types import (\n",
    "    CPZP_SCHEMA,\n",
    "    OZP_SCHEMA,\n",
    "    POHLAVI_CPZP,\n",
    "    TYP_UDALOSTI,\n",
    ")\n",
    "from common.constants.column_names import SHARED_COLUMNS, OZP_COLUMNS, CPZP_COLUMNS\n",
    "import pickle\n",
    "from common.constants.objects import (\n",
    "    Person,\n",
    "    Gender,\n",
    "    AgeCohort,\n",
    "    Prescription,\n",
    "    PrescriptionType,\n",
    ")\n",
    "import matplotlib.pyplot as plt\n",
    "import numpy as np\n",
    "import os\n",
    "\n",
    "pl.Config.set_tbl_rows(20)\n",
    "pl.Config.set_tbl_cols(60)\n",
    "\n",
    "from typing import Any\n",
    "import matplotlib.dates as mdates\n",
    "from common.utils import draw_chart\n",
    "\n",
    "# CONSTANTS\n",
    "POJISTOVNA = \"ozp\""
   ]
  },
  {
   "cell_type": "code",
   "execution_count": 4,
   "id": "6dc4658e",
   "metadata": {},
   "outputs": [],
   "source": [
    "with open(f\"./DATACON_data/{POJISTOVNA}_persons.pkl\", \"rb\") as f:\n",
    "    persons: list[Person] = pickle.load(f)"
   ]
  },
  {
   "cell_type": "code",
   "execution_count": null,
   "id": "2b6ca39b",
   "metadata": {},
   "outputs": [
    {
     "ename": "TypeError",
     "evalue": "draw_chart() missing 1 required positional argument: 'dose_number'",
     "output_type": "error",
     "traceback": [
      "\u001b[31m---------------------------------------------------------------------------\u001b[39m",
      "\u001b[31mTypeError\u001b[39m                                 Traceback (most recent call last)",
      "\u001b[36mCell\u001b[39m\u001b[36m \u001b[39m\u001b[32mIn[23]\u001b[39m\u001b[32m, line 45\u001b[39m\n\u001b[32m     43\u001b[39m data = death_vax_dates_map[dose_number]\n\u001b[32m     44\u001b[39m weekly_data = group_by_weeks(data)  \u001b[38;5;66;03m# Group the data by weeks\u001b[39;00m\n\u001b[32m---> \u001b[39m\u001b[32m45\u001b[39m \u001b[43mdraw_chart\u001b[49m\u001b[43m(\u001b[49m\u001b[43mweekly_data\u001b[49m\u001b[43m,\u001b[49m\u001b[43m \u001b[49m\u001b[33;43m\"\u001b[39;49m\u001b[33;43mWeek after vaccination\u001b[39;49m\u001b[33;43m\"\u001b[39;49m\u001b[43m,\u001b[49m\u001b[43m \u001b[49m\u001b[33;43m\"\u001b[39;49m\u001b[33;43mNumber of deaths\u001b[39;49m\u001b[33;43m\"\u001b[39;49m\u001b[43m,\u001b[49m\u001b[43mdose_number\u001b[49m\u001b[43m)\u001b[49m\n",
      "\u001b[31mTypeError\u001b[39m: draw_chart() missing 1 required positional argument: 'dose_number'"
     ]
    }
   ],
   "source": [
    "import matplotlib.pyplot as plt\n",
    "from collections import defaultdict\n",
    "\n",
    "def nested_defaultdict():\n",
    "    return defaultdict(lambda: defaultdict(int))\n",
    "\n",
    "# Sample data setup\n",
    "death_age_vax_dates_map = defaultdict(nested_defaultdict)\n",
    "death_vax_dates_map = defaultdict(lambda: defaultdict(int))\n",
    "\n",
    "for person in persons:\n",
    "    if not person.died_at:\n",
    "        continue\n",
    "\n",
    "    for vax in person.vaccines:\n",
    "        days_after_vax = (person.died_at - vax.date).days\n",
    "        death_age_vax_dates_map[vax.age_cohort][vax.dose_number][days_after_vax] += 1\n",
    "        death_vax_dates_map[vax.dose_number][days_after_vax] += 1\n",
    "\n",
    "# Function to group days into weeks\n",
    "def group_by_weeks(data):\n",
    "    weekly_data = defaultdict(int)\n",
    "    for days, count in data.items():\n",
    "        week = (days // 7) + 1  # Group by 7-day intervals\n",
    "        weekly_data[week] += count\n",
    "    return dict(weekly_data)\n",
    "\n",
    "# Function to draw bar chart\n",
    "def draw_chart(data, x_label, y_label, dose_number):\n",
    "    weeks = list(data.keys())\n",
    "    death_counts = list(data.values())\n",
    "    \n",
    "    plt.figure(figsize=(10, 6))\n",
    "    plt.bar(weeks, death_counts)\n",
    "    plt.xlim(0, 100)\n",
    "    plt.xlabel(x_label)\n",
    "    plt.ylabel(y_label)\n",
    "    plt.title( f\"Number of deaths depending on weeks after vaccination for dose {dose_number}\")\n",
    "    plt.savefig(f\"out/ozp/hve_vax_days_after_vax_{dose_number}.png\")\n",
    "\n",
    "# Plotting\n",
    "for dose_number in [1, 2, 3]:\n",
    "    data = death_vax_dates_map[dose_number]\n",
    "    weekly_data = group_by_weeks(data)  # Group the data by weeks\n",
    "    draw_chart(weekly_data, \"Week after vaccination\", \"Number of deaths\",dose_number)\n"
   ]
  }
 ],
 "metadata": {
  "kernelspec": {
   "display_name": ".venv",
   "language": "python",
   "name": "python3"
  },
  "language_info": {
   "codemirror_mode": {
    "name": "ipython",
    "version": 3
   },
   "file_extension": ".py",
   "mimetype": "text/x-python",
   "name": "python",
   "nbconvert_exporter": "python",
   "pygments_lexer": "ipython3",
   "version": "3.13.1"
  }
 },
 "nbformat": 4,
 "nbformat_minor": 5
}
