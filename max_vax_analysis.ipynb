{
 "cells": [
  {
   "cell_type": "code",
   "execution_count": 1,
   "id": "507cfea5",
   "metadata": {},
   "outputs": [],
   "source": [
    "from dataclasses import dataclass\n",
    "from enum import StrEnum\n",
    "from datetime import datetime, timedelta\n",
    "import polars as pl\n",
    "from common.constants.column_types import (\n",
    "    CPZP_SCHEMA,\n",
    "    OZP_SCHEMA,\n",
    "    POHLAVI_CPZP,\n",
    "    TYP_UDALOSTI,\n",
    ")\n",
    "from common.constants.column_names import SHARED_COLUMNS, OZP_COLUMNS, CPZP_COLUMNS\n",
    "import pickle\n",
    "from common.constants.objects import (\n",
    "    Person,\n",
    "    Gender,\n",
    "    AgeCohort,\n",
    "    Prescription,\n",
    "    PrescriptionType,\n",
    ")\n",
    "from common.utils import draw_chart\n",
    "\n",
    "pl.Config.set_tbl_rows(20)\n",
    "pl.Config.set_tbl_cols(60)\n",
    "\n",
    "\n",
    "with open(\"./DATACON_data/cpzp_persons.pkl\", \"rb\") as f:\n",
    "    cpzp_persons: list[Person] = pickle.load(f)\n",
    "\n",
    "with open(\"./DATACON_data/ozp_persons.pkl\", \"rb\") as f:\n",
    "    ozp_persons: list[Person] = pickle.load(f)"
   ]
  },
  {
   "cell_type": "code",
   "execution_count": null,
   "id": "5f3a52d1",
   "metadata": {},
   "outputs": [],
   "source": [
    "vax_dates_map: dict[AgeCohort, dict[int, list[datetime]]] = {}\n",
    "vax_ppl_map: dict[AgeCohort, dict[int, list[str|float]]] = {}\n",
    "\n",
    "\n",
    "for p in ozp_persons:\n",
    "    for vax in p.vaccines:\n"
   ]
  }
 ],
 "metadata": {
  "kernelspec": {
   "display_name": ".venv",
   "language": "python",
   "name": "python3"
  },
  "language_info": {
   "codemirror_mode": {
    "name": "ipython",
    "version": 3
   },
   "file_extension": ".py",
   "mimetype": "text/x-python",
   "name": "python",
   "nbconvert_exporter": "python",
   "pygments_lexer": "ipython3",
   "version": "3.13.2"
  }
 },
 "nbformat": 4,
 "nbformat_minor": 5
}
