{
 "cells": [
  {
   "cell_type": "code",
   "execution_count": 1,
   "id": "9204c344",
   "metadata": {},
   "outputs": [],
   "source": [
    "from dataclasses import dataclass\n",
    "from enum import StrEnum\n",
    "from datetime import datetime, timedelta\n",
    "import polars as pl\n",
    "from common.constants.column_types import (\n",
    "    CPZP_SCHEMA,\n",
    "    OZP_SCHEMA,\n",
    "    POHLAVI_CPZP,\n",
    "    TYP_UDALOSTI,\n",
    ")\n",
    "from common.constants.column_names import SHARED_COLUMNS, OZP_COLUMNS, CPZP_COLUMNS\n",
    "import pickle\n",
    "from common.constants.objects import (\n",
    "    Person,\n",
    "    Gender,\n",
    "    AgeCohort,\n",
    "    Prescription,\n",
    "    PrescriptionType,\n",
    ")\n",
    "from common.utils import draw_chart\n",
    "\n",
    "pl.Config.set_tbl_rows(20)\n",
    "pl.Config.set_tbl_cols(60)\n",
    "\n",
    "\n",
    "with open(\"./DATACON_data/cpzp_persons.pkl\", \"rb\") as f:\n",
    "    cpzp_persons: list[Person] = pickle.load(f)\n",
    "\n",
    "with open(\"./DATACON_data/ozp_persons.pkl\", \"rb\") as f:\n",
    "    ozp_persons: list[Person] = pickle.load(f)"
   ]
  },
  {
   "cell_type": "code",
   "execution_count": null,
   "id": "6fa8042d",
   "metadata": {},
   "outputs": [
    {
     "name": "stdout",
     "output_type": "stream",
     "text": [
      "Počet osob s očkováním: 765972\n",
      "Počet osob bez očkování a bez předpisů: 630500\n",
      "Počet předpisů pro osoby 30-50 let: 735528\n",
      "Počet očkovaných osob pro analýzu 30-50 let: 257909\n",
      "Počet předpisů pro očkované osoby 30-50 let v letech 2020-2023: 180884\n",
      "Počet prvopředpisů v letech 2020-2023: 124820\n"
     ]
    }
   ],
   "source": [
    "persons = cpzp_persons\n",
    "\n",
    "vax_persons = [p for p in persons if p.vaccines]\n",
    "print(f\"Počet osob s očkováním: {len(vax_persons)}\")\n",
    "\n",
    "no_vax_no_prescriptions = [p for p in persons if not p.vaccines and not p.prescriptions]\n",
    "print(f\"Počet osob bez očkování a bez předpisů: {len(no_vax_no_prescriptions)}\")\n",
    "\n",
    "\n",
    "prescriptions_for_30_50 = [\n",
    "    1\n",
    "    for p in persons\n",
    "    for prescription in p.prescriptions\n",
    "    if prescription.age_cohort_at_prescription == AgeCohort.BETWEEN_30_AND_50\n",
    "]\n",
    "print(f\"Počet předpisů pro osoby 30-50 let: {len(prescriptions_for_30_50)}\")\n",
    "\n",
    "\n",
    "analysis_included_30_50_vax_persons = [\n",
    "    p\n",
    "    for p in persons\n",
    "    if p.vaccines and p.age_cohort == AgeCohort.BETWEEN_30_AND_50 and p.died_at is None\n",
    "]\n",
    "print(\n",
    "    f\"Počet očkovaných osob pro analýzu 30-50 let: {len(analysis_included_30_50_vax_persons)}\"\n",
    ")\n",
    "\n",
    "prescriptions_for_30_50_vax_persons_2020_2023 = [\n",
    "    1\n",
    "    for p in persons\n",
    "    if p.vaccines\n",
    "    for prescription in p.prescriptions\n",
    "    if prescription.date >= datetime(2020, 1, 1).date()\n",
    "    and prescription.date <= datetime(2023, 1, 1).date()\n",
    "    and prescription.age_cohort_at_prescription == AgeCohort.BETWEEN_30_AND_50\n",
    "]\n",
    "print(\n",
    "    f\"Počet předpisů pro očkované osoby 30-50 let v letech 2020-2023: {len(prescriptions_for_30_50_vax_persons_2020_2023)}\"\n",
    ")\n",
    "\n",
    "\n",
    "number_of_first_prescriptions_in_2020_2023 = [\n",
    "    1\n",
    "    for p in persons\n",
    "    if p.prescriptions\n",
    "    and min(prescription.date for prescription in p.prescriptions)\n",
    "    >= datetime(2020, 1, 1).date()\n",
    "    and min(prescription.date for prescription in p.prescriptions)\n",
    "    <= datetime(2023, 1, 1).date()\n",
    "]\n",
    "print(\n",
    "    f\"Počet prvopředpisů v letech 2020-2023: {len(number_of_first_prescriptions_in_2020_2023)}\"\n",
    ")"
   ]
  },
  {
   "cell_type": "code",
   "execution_count": null,
   "id": "0c1ded09",
   "metadata": {},
   "outputs": [
    {
     "name": "stdout",
     "output_type": "stream",
     "text": [
      "517853\n",
      "180884\n"
     ]
    }
   ],
   "source": [
    "no_of_corts = 0\n",
    "no_of_corts_in_2020_2023 = 0\n",
    "for person in cpzp_persons:\n",
    "    if not person.vaccines:\n",
    "        continue\n",
    "    for prescription in person.prescriptions:\n",
    "        if not prescription.age_cohort_at_prescription == AgeCohort.BETWEEN_30_AND_50:\n",
    "            continue\n",
    "        no_of_corts += 1\n",
    "        if (\n",
    "            prescription.date >= datetime(2020, 1, 1).date()\n",
    "            and prescription.date <= datetime(2023, 1, 1).date()\n",
    "        ):\n",
    "            no_of_corts_in_2020_2023 += 1\n",
    "\n",
    "print(no_of_corts)\n",
    "print(no_of_corts_in_2020_2023)"
   ]
  }
 ],
 "metadata": {
  "kernelspec": {
   "display_name": ".venv",
   "language": "python",
   "name": "python3"
  },
  "language_info": {
   "codemirror_mode": {
    "name": "ipython",
    "version": 3
   },
   "file_extension": ".py",
   "mimetype": "text/x-python",
   "name": "python",
   "nbconvert_exporter": "python",
   "pygments_lexer": "ipython3",
   "version": "3.13.2"
  }
 },
 "nbformat": 4,
 "nbformat_minor": 5
}
