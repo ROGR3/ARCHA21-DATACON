{
 "cells": [
  {
   "cell_type": "code",
   "execution_count": 1,
   "id": "9204c344",
   "metadata": {},
   "outputs": [],
   "source": [
    "from dataclasses import dataclass\n",
    "from enum import StrEnum\n",
    "from datetime import datetime, timedelta\n",
    "import polars as pl\n",
    "from common.constants.column_types import (\n",
    "    CPZP_SCHEMA,\n",
    "    OZP_SCHEMA,\n",
    "    POHLAVI_CPZP,\n",
    "    TYP_UDALOSTI,\n",
    ")\n",
    "from common.constants.column_names import SHARED_COLUMNS, OZP_COLUMNS, CPZP_COLUMNS\n",
    "import pickle\n",
    "from common.constants.objects import (\n",
    "    Person,\n",
    "    Gender,\n",
    "    AgeCohort,\n",
    "    Prescription,\n",
    "    PrescriptionType,\n",
    ")\n",
    "from common.utils import draw_chart\n",
    "\n",
    "pl.Config.set_tbl_rows(20)\n",
    "pl.Config.set_tbl_cols(60)\n",
    "\n",
    "\n",
    "with open(\"./DATACON_data/cpzp_persons.pkl\", \"rb\") as f:\n",
    "    cpzp_persons: list[Person] = pickle.load(f)\n",
    "\n",
    "with open(\"./DATACON_data/ozp_persons.pkl\", \"rb\") as f:\n",
    "    ozp_persons: list[Person] = pickle.load(f)"
   ]
  },
  {
   "cell_type": "code",
   "execution_count": 2,
   "id": "6fa8042d",
   "metadata": {},
   "outputs": [
    {
     "name": "stdout",
     "output_type": "stream",
     "text": [
      "1466955\n"
     ]
    }
   ],
   "source": [
    "alive_cpzp_persons = [p for p in cpzp_persons if p.died_at is None]\n",
    "print(len(alive_cpzp_persons))"
   ]
  },
  {
   "cell_type": "code",
   "execution_count": 16,
   "id": "0c1ded09",
   "metadata": {},
   "outputs": [
    {
     "name": "stdout",
     "output_type": "stream",
     "text": [
      "558589\n",
      "189454\n"
     ]
    }
   ],
   "source": [
    "no_of_corts = 0\n",
    "no_of_corts_in_2020_2023 = 0\n",
    "for person in alive_cpzp_persons:\n",
    "    for prescription in person.prescriptions:\n",
    "        if prescription.age_cohort_at_prescription == AgeCohort.BETWEEN_30_AND_50:\n",
    "            if prescription.prescription_type == PrescriptionType.KORTIKOID:\n",
    "                no_of_corts += 1\n",
    "                if (\n",
    "                    prescription.date >= datetime(2020, 1, 1).date()\n",
    "                    and prescription.date <= datetime(2023, 1, 1).date()\n",
    "                ):\n",
    "                    no_of_corts_in_2020_2023 += 1\n",
    "\n",
    "print(no_of_corts)\n",
    "print(no_of_corts_in_2020_2023)"
   ]
  },
  {
   "cell_type": "code",
   "execution_count": 9,
   "id": "dac92a4f",
   "metadata": {},
   "outputs": [
    {
     "name": "stdout",
     "output_type": "stream",
     "text": [
      "977485\n",
      "502908\n"
     ]
    }
   ],
   "source": [
    "no_of_vax_persons = 0\n",
    "\n",
    "for person in ozp_persons:\n",
    "    # if not person.age_cohort == AgeCohort.BETWEEN_30_AND_50:\n",
    "    # continue\n",
    "    if person.vaccines:\n",
    "        no_of_vax_persons += 1\n",
    "\n",
    "print(len(ozp_persons))\n",
    "print(no_of_vax_persons)"
   ]
  },
  {
   "cell_type": "code",
   "execution_count": 15,
   "id": "8c5fd311",
   "metadata": {},
   "outputs": [
    {
     "name": "stdout",
     "output_type": "stream",
     "text": [
      "119738\n"
     ]
    }
   ],
   "source": [
    "no_of_first_prescriptions = 0\n",
    "\n",
    "for person in alive_cpzp_persons:\n",
    "    if not person.prescriptions:\n",
    "        continue\n",
    "    first_prescription = person.prescriptions[0]\n",
    "    if (\n",
    "        first_prescription.date >= datetime(2020, 1, 1).date()\n",
    "        and first_prescription.date <= datetime(2023, 1, 1).date()\n",
    "    ):\n",
    "        no_of_first_prescriptions += 1\n",
    "\n",
    "print(no_of_first_prescriptions)"
   ]
  },
  {
   "cell_type": "code",
   "execution_count": null,
   "id": "c83b7af4",
   "metadata": {},
   "outputs": [],
   "source": [
    "obj = {\n",
    "    \"num_of_alive_vaxed_persons\": 0,\n",
    "    \"num_of_alive_unvaxed_persons\": 0,\n",
    "    \"num_of_dead_vaxed_persons\": 0,\n",
    "    \"num_of_dead_unvaxed_persons\": 0,\n",
    "}"
   ]
  },
  {
   "cell_type": "code",
   "execution_count": null,
   "id": "2f2a276e",
   "metadata": {},
   "outputs": [],
   "source": []
  }
 ],
 "metadata": {
  "kernelspec": {
   "display_name": ".venv",
   "language": "python",
   "name": "python3"
  },
  "language_info": {
   "codemirror_mode": {
    "name": "ipython",
    "version": 3
   },
   "file_extension": ".py",
   "mimetype": "text/x-python",
   "name": "python",
   "nbconvert_exporter": "python",
   "pygments_lexer": "ipython3",
   "version": "3.13.2"
  }
 },
 "nbformat": 4,
 "nbformat_minor": 5
}
