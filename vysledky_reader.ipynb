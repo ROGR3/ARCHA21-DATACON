{
 "cells": [
  {
   "cell_type": "code",
   "execution_count": 1,
   "id": "32987616",
   "metadata": {},
   "outputs": [
    {
     "data": {
      "text/plain": [
       "polars.config.Config"
      ]
     },
     "execution_count": 1,
     "metadata": {},
     "output_type": "execute_result"
    }
   ],
   "source": [
    "import polars as pl\n",
    "\n",
    "pl.Config.set_tbl_rows(-1)"
   ]
  },
  {
   "cell_type": "code",
   "execution_count": 3,
   "id": "9c732856",
   "metadata": {},
   "outputs": [],
   "source": [
    "df = pl.read_csv(\"./out/both_companies/results_all_periods.csv\")\n",
    "\n",
    "df = (\n",
    "    df.filter(pl.col(\"p_value\") < 0.05)\n",
    "    .filter(pl.col(\"diff\").is_not_nan())\n",
    "    .filter((pl.col(\"period_days\").eq(180)))\n",
    "    .filter(pl.col(\"vax_dose\").eq(1))\n",
    ")\n",
    "df = df.sort(\"diff\", \"age_cohort\", \"vax_dose\")\n",
    "df.write_csv(\"test.csv\")"
   ]
  }
 ],
 "metadata": {
  "kernelspec": {
   "display_name": ".venv",
   "language": "python",
   "name": "python3"
  },
  "language_info": {
   "codemirror_mode": {
    "name": "ipython",
    "version": 3
   },
   "file_extension": ".py",
   "mimetype": "text/x-python",
   "name": "python",
   "nbconvert_exporter": "python",
   "pygments_lexer": "ipython3",
   "version": "3.13.2"
  }
 },
 "nbformat": 4,
 "nbformat_minor": 5
}
