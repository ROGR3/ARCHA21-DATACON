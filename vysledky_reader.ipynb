{
 "cells": [
  {
   "cell_type": "code",
   "execution_count": 1,
   "id": "32987616",
   "metadata": {},
   "outputs": [
    {
     "data": {
      "text/plain": [
       "polars.config.Config"
      ]
     },
     "execution_count": 1,
     "metadata": {},
     "output_type": "execute_result"
    }
   ],
   "source": [
    "import polars as pl\n",
    "\n",
    "pl.Config.set_tbl_rows(-1)"
   ]
  },
  {
   "cell_type": "code",
   "execution_count": 7,
   "id": "9c732856",
   "metadata": {},
   "outputs": [
    {
     "data": {
      "text/html": [
       "<div><style>\n",
       ".dataframe > thead > tr,\n",
       ".dataframe > tbody > tr {\n",
       "  text-align: right;\n",
       "  white-space: pre-wrap;\n",
       "}\n",
       "</style>\n",
       "<small>shape: (5, 13)</small><table border=\"1\" class=\"dataframe\"><thead><tr><th>period_days</th><th>age_cohort</th><th>vax_dose</th><th>metric</th><th>vax_increase</th><th>novax_increase</th><th>diff</th><th>p_value</th><th>vax_before</th><th>vax_after</th><th>novax_before</th><th>novax_after</th><th>vax_vs_novax_ratio</th></tr><tr><td>i64</td><td>str</td><td>i64</td><td>str</td><td>f64</td><td>f64</td><td>f64</td><td>f64</td><td>f64</td><td>f64</td><td>f64</td><td>f64</td><td>f64</td></tr></thead><tbody><tr><td>364</td><td>&quot;less_than_12&quot;</td><td>1</td><td>&quot;prvopredpisy&quot;</td><td>107.086614</td><td>139.627412</td><td>-32.540798</td><td>0.037539</td><td>127.0</td><td>136.0</td><td>7515.0</td><td>10493.0</td><td>0.766945</td></tr><tr><td>364</td><td>&quot;more_than_70&quot;</td><td>1</td><td>&quot;prvopredpisy&quot;</td><td>102.233867</td><td>125.71912</td><td>-23.485254</td><td>0.000551</td><td>3626.0</td><td>3707.0</td><td>591.0</td><td>743.0</td><td>0.813193</td></tr><tr><td>364</td><td>&quot;between_50_and_70&quot;</td><td>1</td><td>&quot;prvopredpisy&quot;</td><td>91.318613</td><td>104.558011</td><td>-13.239398</td><td>5.3602e-7</td><td>11277.0</td><td>10298.0</td><td>3620.0</td><td>3785.0</td><td>0.873377</td></tr><tr><td>364</td><td>&quot;between_30_and_50&quot;</td><td>1</td><td>&quot;prvopredpisy&quot;</td><td>96.32</td><td>106.782007</td><td>-10.462007</td><td>0.000015</td><td>8750.0</td><td>8428.0</td><td>5780.0</td><td>6172.0</td><td>0.902025</td></tr><tr><td>364</td><td>&quot;between_12_and_30&quot;</td><td>1</td><td>&quot;prvopredpisy&quot;</td><td>121.320853</td><td>116.481411</td><td>4.839442</td><td>0.318275</td><td>1923.0</td><td>2333.0</td><td>2609.0</td><td>3039.0</td><td>1.041547</td></tr></tbody></table></div>"
      ],
      "text/plain": [
       "shape: (5, 13)\n",
       "┌───────────┬───────────┬──────────┬───────────┬───┬───────────┬───────────┬───────────┬───────────┐\n",
       "│ period_da ┆ age_cohor ┆ vax_dose ┆ metric    ┆ … ┆ vax_after ┆ novax_bef ┆ novax_aft ┆ vax_vs_no │\n",
       "│ ys        ┆ t         ┆ ---      ┆ ---       ┆   ┆ ---       ┆ ore       ┆ er        ┆ vax_ratio │\n",
       "│ ---       ┆ ---       ┆ i64      ┆ str       ┆   ┆ f64       ┆ ---       ┆ ---       ┆ ---       │\n",
       "│ i64       ┆ str       ┆          ┆           ┆   ┆           ┆ f64       ┆ f64       ┆ f64       │\n",
       "╞═══════════╪═══════════╪══════════╪═══════════╪═══╪═══════════╪═══════════╪═══════════╪═══════════╡\n",
       "│ 364       ┆ less_than ┆ 1        ┆ prvopredp ┆ … ┆ 136.0     ┆ 7515.0    ┆ 10493.0   ┆ 0.766945  │\n",
       "│           ┆ _12       ┆          ┆ isy       ┆   ┆           ┆           ┆           ┆           │\n",
       "│ 364       ┆ more_than ┆ 1        ┆ prvopredp ┆ … ┆ 3707.0    ┆ 591.0     ┆ 743.0     ┆ 0.813193  │\n",
       "│           ┆ _70       ┆          ┆ isy       ┆   ┆           ┆           ┆           ┆           │\n",
       "│ 364       ┆ between_5 ┆ 1        ┆ prvopredp ┆ … ┆ 10298.0   ┆ 3620.0    ┆ 3785.0    ┆ 0.873377  │\n",
       "│           ┆ 0_and_70  ┆          ┆ isy       ┆   ┆           ┆           ┆           ┆           │\n",
       "│ 364       ┆ between_3 ┆ 1        ┆ prvopredp ┆ … ┆ 8428.0    ┆ 5780.0    ┆ 6172.0    ┆ 0.902025  │\n",
       "│           ┆ 0_and_50  ┆          ┆ isy       ┆   ┆           ┆           ┆           ┆           │\n",
       "│ 364       ┆ between_1 ┆ 1        ┆ prvopredp ┆ … ┆ 2333.0    ┆ 2609.0    ┆ 3039.0    ┆ 1.041547  │\n",
       "│           ┆ 2_and_30  ┆          ┆ isy       ┆   ┆           ┆           ┆           ┆           │\n",
       "└───────────┴───────────┴──────────┴───────────┴───┴───────────┴───────────┴───────────┴───────────┘"
      ]
     },
     "execution_count": 7,
     "metadata": {},
     "output_type": "execute_result"
    }
   ],
   "source": [
    "df = pl.read_csv(\"./out/both_companies/results_all_periods.csv\")\n",
    "\n",
    "df = df.sort([\"age_cohort\"]).filter(\n",
    "    (pl.col(\"vax_dose\") == 1)\n",
    "    & (pl.col(\"metric\") == \"prvopredpisy\")\n",
    "    & (pl.col(\"period_days\") == 364)\n",
    ")\n",
    "df = df.sort(\"diff\", \"age_cohort\", \"vax_dose\")\n",
    "df"
   ]
  }
 ],
 "metadata": {
  "kernelspec": {
   "display_name": ".venv",
   "language": "python",
   "name": "python3"
  },
  "language_info": {
   "codemirror_mode": {
    "name": "ipython",
    "version": 3
   },
   "file_extension": ".py",
   "mimetype": "text/x-python",
   "name": "python",
   "nbconvert_exporter": "python",
   "pygments_lexer": "ipython3",
   "version": "3.13.2"
  }
 },
 "nbformat": 4,
 "nbformat_minor": 5
}
